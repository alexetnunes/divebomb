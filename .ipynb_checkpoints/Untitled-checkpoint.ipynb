{
 "cells": [
  {
   "cell_type": "code",
   "execution_count": null,
   "metadata": {},
   "outputs": [],
   "source": [
    "import pandas as pd\n",
    "from netCDF4 import Dataset, num2date\n",
    "import plotly.offline as py\n",
    "import plotly.graph_objs as go\n",
    "import numpy as np\n",
    "import divr.Dive as dive\n",
    "\n",
    "from ipywidgets import interact, interactive, fixed, interact_manual\n",
    "import ipywidgets as widgets\n",
    "py.init_notebook_mode()   \n",
    "pd.options.mode.chained_assignment = None"
   ]
  },
  {
   "cell_type": "code",
   "execution_count": null,
   "metadata": {
    "collapsed": true
   },
   "outputs": [],
   "source": [
    "rootgrp = Dataset('X98_dive_data.nc','r')"
   ]
  },
  {
   "cell_type": "code",
   "execution_count": null,
   "metadata": {},
   "outputs": [],
   "source": [
    "df = pd.DataFrame()\n",
    "df['time'] = rootgrp.variables['time'][:]\n",
    "df['depth'] = rootgrp.variables['corrected_depth'][:]\n",
    "df.dropna(inplace=True)\n",
    "df = df.sort_values(by='time')\n",
    "df['velocity'] = df.depth.diff()/df.time.diff()\n",
    "df['acceleration'] = (df.velocity.diff()/df.time.diff())\n",
    "df['depth_diff'] = df.depth.diff()\n",
    "df['accel_lead'] = df.acceleration.shift(-1)\n",
    "df['depth_lead'] = df.depth_diff.shift(-1)\n",
    "\n",
    "\n",
    "df = df[500000:510000].reset_index(drop=True)\n",
    "acceleration_threshold = 0.015\n",
    "surface_threshold = 3.0\n",
    "\n",
    "starts = df[(df['accel_lead'] >= acceleration_threshold) & (df.depth_lead > 0) & (df.depth <= surface_threshold)]\n",
    "starts['start_block'] = starts.index\n",
    "starts['end_block'] = starts.start_block.shift(-1) + 1\n",
    "starts.end_block.fillna(df.index.max(), inplace=True)\n",
    "starts.end_block = starts.end_block.astype(int)\n",
    "\n",
    "starts = starts[(starts.end_block - starts.start_block) > 5]\n",
    "starts.reset_index(inplace=True, drop=True)"
   ]
  },
  {
   "cell_type": "code",
   "execution_count": null,
   "metadata": {
    "collapsed": true
   },
   "outputs": [],
   "source": [
    "def create_dive(index, df, starts):\n",
    "    index = int(index)\n",
    "    print str(starts.loc[index,'start_block'])+\":\"+str(starts.loc[index,'end_block'])\n",
    "    d = dive.Dive(df[starts.loc[index,'start_block']:starts.loc[index,'end_block']])\n",
    "    return d.plot()"
   ]
  },
  {
   "cell_type": "code",
   "execution_count": null,
   "metadata": {},
   "outputs": [],
   "source": [
    "interact(create_dive, index=widgets.IntSlider(min=0,max=starts.index.max(),step=1,value=0), df=fixed(df), starts=fixed(starts))"
   ]
  }
 ],
 "metadata": {
  "kernelspec": {
   "display_name": "Python 2",
   "language": "python",
   "name": "python2"
  },
  "language_info": {
   "codemirror_mode": {
    "name": "ipython",
    "version": 2
   },
   "file_extension": ".py",
   "mimetype": "text/x-python",
   "name": "python",
   "nbconvert_exporter": "python",
   "pygments_lexer": "ipython2",
   "version": "2.7.13"
  }
 },
 "nbformat": 4,
 "nbformat_minor": 2
}
